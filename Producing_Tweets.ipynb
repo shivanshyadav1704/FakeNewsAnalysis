{
 "cells": [
  {
   "cell_type": "code",
   "execution_count": 1,
   "id": "ae52f8cf",
   "metadata": {},
   "outputs": [],
   "source": [
    "import pandas as pd\n",
    "from ntscraper import Nitter"
   ]
  },
  {
   "cell_type": "code",
   "execution_count": 2,
   "id": "071de066",
   "metadata": {},
   "outputs": [
    {
     "name": "stderr",
     "output_type": "stream",
     "text": [
      "Testing instances: 100%|███████████████████████████████████████████████████████████████| 77/77 [01:57<00:00,  1.53s/it]\n"
     ]
    }
   ],
   "source": [
    "scraper=Nitter(0)"
   ]
  },
  {
   "cell_type": "code",
   "execution_count": 4,
   "id": "80433790",
   "metadata": {},
   "outputs": [],
   "source": [
    "tweets = scraper.get_tweets('8bit__goldy', mode = 'user', number=10)"
   ]
  },
  {
   "cell_type": "code",
   "execution_count": 5,
   "id": "2fa9d34f",
   "metadata": {},
   "outputs": [
    {
     "data": {
      "text/plain": [
       "{'tweets': [{'link': 'https://twitter.com/8bit__goldy/status/1730518758433976798#m',\n",
       "   'text': 'Twice in a row  ❤️🇮🇳',\n",
       "   'user': {'name': 'Lokesh jain',\n",
       "    'username': '@8bit__goldy',\n",
       "    'profile_id': '1751313813901840384',\n",
       "    'avatar': 'https://pbs.twimg.com/profile_images/1751313813901840384/GC4aSXoJ_bigger.jpg'},\n",
       "   'date': 'Dec 1, 2023 · 9:26 AM UTC',\n",
       "   'is-retweet': False,\n",
       "   'is-pinned': True,\n",
       "   'external-link': '',\n",
       "   'replying-to': [],\n",
       "   'quoted-post': {'link': 'https://twitter.com/S8ulesports/status/1730388014587945262#m',\n",
       "    'text': 'We are honored to be recognized as Content Creator of the Year at @esportsawards 2023, marking a victorious end to the year! 🎉  Massive thanks to our entire loving community. This is for you! ❤️🚀  #EsportsAwards2023',\n",
       "    'user': {'name': 'S8UL',\n",
       "     'username': '@S8ulesports',\n",
       "     'profile_id': '1607008301786763264',\n",
       "     'avatar': 'https://pbs.twimg.com/profile_images/1607008301786763264/dID8FBx-_mini.jpg'},\n",
       "    'date': 'Dec 1, 2023 · 12:47 AM UTC',\n",
       "    'pictures': ['https://pbs.twimg.com/media/GAOSuRSWAAAXbrR.jpg'],\n",
       "    'videos': [],\n",
       "    'gifs': []},\n",
       "   'stats': {'comments': 25, 'retweets': 25, 'quotes': 2, 'likes': 982},\n",
       "   'pictures': [],\n",
       "   'videos': [],\n",
       "   'gifs': []},\n",
       "  {'link': 'https://twitter.com/ExcaliVLR/status/1759557446643929170#m',\n",
       "   'text': '\"Goodbye India\" They said 😭',\n",
       "   'user': {'name': 'Karan Mhaswadkar',\n",
       "    'username': '@ExcaliVLR',\n",
       "    'profile_id': '1596955369732861952',\n",
       "    'avatar': 'https://pbs.twimg.com/profile_images/1596955369732861952/sZUlY0qW_bigger.jpg'},\n",
       "   'date': 'Feb 19, 2024 · 12:36 PM UTC',\n",
       "   'is-retweet': True,\n",
       "   'is-pinned': False,\n",
       "   'external-link': '',\n",
       "   'replying-to': [],\n",
       "   'quoted-post': {},\n",
       "   'stats': {'comments': 11, 'retweets': 37, 'quotes': 3, 'likes': 1487},\n",
       "   'pictures': [],\n",
       "   'videos': [],\n",
       "   'gifs': []},\n",
       "  {'link': 'https://twitter.com/8bit__goldy/status/1758860707393884504#m',\n",
       "   'text': '🤫🧿',\n",
       "   'user': {'name': 'Lokesh jain',\n",
       "    'username': '@8bit__goldy',\n",
       "    'profile_id': '1751313813901840384',\n",
       "    'avatar': 'https://pbs.twimg.com/profile_images/1751313813901840384/GC4aSXoJ_bigger.jpg'},\n",
       "   'date': 'Feb 17, 2024 · 2:27 PM UTC',\n",
       "   'is-retweet': False,\n",
       "   'is-pinned': False,\n",
       "   'external-link': '',\n",
       "   'replying-to': [],\n",
       "   'quoted-post': {},\n",
       "   'stats': {'comments': 96, 'retweets': 36, 'quotes': 3, 'likes': 1744},\n",
       "   'pictures': [],\n",
       "   'videos': [],\n",
       "   'gifs': []},\n",
       "  {'link': 'https://twitter.com/8bit__goldy/status/1756382331596923091#m',\n",
       "   'text': 'Sher toh Sher Howe hai 👑',\n",
       "   'user': {'name': 'Lokesh jain',\n",
       "    'username': '@8bit__goldy',\n",
       "    'profile_id': '1751313813901840384',\n",
       "    'avatar': 'https://pbs.twimg.com/profile_images/1751313813901840384/GC4aSXoJ_bigger.jpg'},\n",
       "   'date': 'Feb 10, 2024 · 6:19 PM UTC',\n",
       "   'is-retweet': False,\n",
       "   'is-pinned': False,\n",
       "   'external-link': '',\n",
       "   'replying-to': [],\n",
       "   'quoted-post': {'link': 'https://twitter.com/TimesNow/status/1756353837437276364#m',\n",
       "    'text': \"WATCH: Naman 'Mortal' Mathur Reveals How He Went Viral | GBS 2024  @Mortal04907880 #NamanMathur #Mortal #GBS #GBS2024 #ScriptingATomorrow @ETNOW_GBS @ET_Edge https://www.timesnownews.com/technology-science/gaming/watch-naman-mortal-mathur-s8ul-mortal-reveals-how-he-went-viral-gbs-2024-article-107587498\",\n",
       "    'user': {'name': 'TIMES NOW',\n",
       "     'username': '@TimesNow',\n",
       "     'profile_id': '1354074536925388802',\n",
       "     'avatar': 'https://pbs.twimg.com/profile_images/1354074536925388802/qkHhpnVw_mini.jpg'},\n",
       "    'date': 'Feb 10, 2024 · 4:26 PM UTC',\n",
       "    'pictures': [],\n",
       "    'videos': [],\n",
       "    'gifs': []},\n",
       "   'stats': {'comments': 22, 'retweets': 61, 'quotes': 2, 'likes': 1647},\n",
       "   'pictures': [],\n",
       "   'videos': [],\n",
       "   'gifs': []},\n",
       "  {'link': 'https://twitter.com/8bit__goldy/status/1756070529558249563#m',\n",
       "   'text': \"Sharing some strong lines which I read rn ❤️  `` Sabar ka mere abhi imtehaan jaari hai ,  Waqt woh bhai aayega !!! '’  Jab khuda khud kahega - Chal ab teri Bari hai 🧿\",\n",
       "   'user': {'name': 'Lokesh jain',\n",
       "    'username': '@8bit__goldy',\n",
       "    'profile_id': '1751313813901840384',\n",
       "    'avatar': 'https://pbs.twimg.com/profile_images/1751313813901840384/GC4aSXoJ_bigger.jpg'},\n",
       "   'date': 'Feb 9, 2024 · 9:40 PM UTC',\n",
       "   'is-retweet': False,\n",
       "   'is-pinned': False,\n",
       "   'external-link': '',\n",
       "   'replying-to': [],\n",
       "   'quoted-post': {},\n",
       "   'stats': {'comments': 18, 'retweets': 80, 'quotes': 3, 'likes': 1386},\n",
       "   'pictures': [],\n",
       "   'videos': [],\n",
       "   'gifs': []},\n",
       "  {'link': 'https://twitter.com/8bit__goldy/status/1756050723744501852#m',\n",
       "   'text': 'BEST TO HAVE CRACKED THE ALGORITHM 🔥❤️',\n",
       "   'user': {'name': 'Lokesh jain',\n",
       "    'username': '@8bit__goldy',\n",
       "    'profile_id': '1751313813901840384',\n",
       "    'avatar': 'https://pbs.twimg.com/profile_images/1751313813901840384/GC4aSXoJ_bigger.jpg'},\n",
       "   'date': 'Feb 9, 2024 · 8:21 PM UTC',\n",
       "   'is-retweet': False,\n",
       "   'is-pinned': False,\n",
       "   'external-link': '',\n",
       "   'replying-to': [],\n",
       "   'quoted-post': {'link': 'https://twitter.com/100Thieves/status/1756045426187538527#m',\n",
       "    'text': 'Unleash your inner Trainer.  @Pokemon + 100 Thieves available tomorrow at 12PM PT on 100Thieves.com',\n",
       "    'user': {'name': '100 Thieves',\n",
       "     'username': '@100Thieves',\n",
       "     'profile_id': '1748400140145328128',\n",
       "     'avatar': 'https://pbs.twimg.com/profile_images/1748400140145328128/HEoNM0MH_mini.jpg'},\n",
       "    'date': 'Feb 9, 2024 · 8:00 PM UTC',\n",
       "    'pictures': ['https://pbs.twimg.com/media/GF66AW8a0AAAKo-.jpg',\n",
       "     'https://pbs.twimg.com/media/GF66AW9bQAAoF50.jpg'],\n",
       "    'videos': [],\n",
       "    'gifs': []},\n",
       "   'stats': {'comments': 2, 'retweets': 10, 'quotes': 0, 'likes': 534},\n",
       "   'pictures': [],\n",
       "   'videos': [],\n",
       "   'gifs': []},\n",
       "  {'link': 'https://twitter.com/8bit__goldy/status/1755494200353993054#m',\n",
       "   'text': 'I hear the jersey request but launching the jersey before the event and getting it shipped and delivered to you all seems very difficult right now. Please don’t take me wrong but don’t want you guys to keep hanging but since you all want it , we will get it done asap on store',\n",
       "   'user': {'name': 'Lokesh jain',\n",
       "    'username': '@8bit__goldy',\n",
       "    'profile_id': '1751313813901840384',\n",
       "    'avatar': 'https://pbs.twimg.com/profile_images/1751313813901840384/GC4aSXoJ_bigger.jpg'},\n",
       "   'date': 'Feb 8, 2024 · 7:30 AM UTC',\n",
       "   'is-retweet': False,\n",
       "   'is-pinned': False,\n",
       "   'external-link': '',\n",
       "   'replying-to': [],\n",
       "   'quoted-post': {},\n",
       "   'stats': {'comments': 53, 'retweets': 47, 'quotes': 4, 'likes': 1553},\n",
       "   'pictures': [],\n",
       "   'videos': [],\n",
       "   'gifs': []},\n",
       "  {'link': 'https://twitter.com/8bit__goldy/status/1754221824668573983#m',\n",
       "   'text': \"NGL, very happy for mavi's comeback by heart . he and his team has been playing really well . appreciaction to doctor @RushindraSinha and @GlobalEsportsIn for building an amazing roster . finally after farming for so long things have been working in favour or his bgmi esports lineup . Rushi bhai helped you translate what I mentioned above\",\n",
       "   'user': {'name': 'Lokesh jain',\n",
       "    'username': '@8bit__goldy',\n",
       "    'profile_id': '1751313813901840384',\n",
       "    'avatar': 'https://pbs.twimg.com/profile_images/1751313813901840384/GC4aSXoJ_bigger.jpg'},\n",
       "   'date': 'Feb 4, 2024 · 7:14 PM UTC',\n",
       "   'is-retweet': False,\n",
       "   'is-pinned': False,\n",
       "   'external-link': '',\n",
       "   'replying-to': [],\n",
       "   'quoted-post': {},\n",
       "   'stats': {'comments': 9, 'retweets': 14, 'quotes': 0, 'likes': 520},\n",
       "   'pictures': [],\n",
       "   'videos': [],\n",
       "   'gifs': []},\n",
       "  {'link': 'https://twitter.com/8bit__goldy/status/1754220419165610066#m',\n",
       "   'text': 'झूठ नहीं बोलूंगा, दिल से मावी की वापसी से बहुत खुश हूं। वह और उनकी टीम वास्तव में अच्छा खेल रही है। एक अद्भुत रोस्टर बनाने के लिए डॉक्टर @RushindraSinha और @GlobalEsportsIn की सराहना। आखिरकार इतने लंबे समय तक खेती करने के बाद चीजें बीजीएमआई ईस्पोर्ट्स लाइनअप के पक्ष में काम कर रही हैं !',\n",
       "   'user': {'name': 'Lokesh jain',\n",
       "    'username': '@8bit__goldy',\n",
       "    'profile_id': '1751313813901840384',\n",
       "    'avatar': 'https://pbs.twimg.com/profile_images/1751313813901840384/GC4aSXoJ_bigger.jpg'},\n",
       "   'date': 'Feb 4, 2024 · 7:08 PM UTC',\n",
       "   'is-retweet': False,\n",
       "   'is-pinned': False,\n",
       "   'external-link': '',\n",
       "   'replying-to': [],\n",
       "   'quoted-post': {},\n",
       "   'stats': {'comments': 54, 'retweets': 46, 'quotes': 4, 'likes': 1374},\n",
       "   'pictures': [],\n",
       "   'videos': [],\n",
       "   'gifs': []},\n",
       "  {'link': 'https://twitter.com/8bit__goldy/status/1754214056872013969#m',\n",
       "   'text': 'Mera Aisa maana hai ki aapka kehna theekh hai . Magar kya aap dil se Aisa chahte hai ??  @GodsReignIN . @keanuwuu aapko Hindi aati nahi , krupya chat gpt se likhwa kar agle tweets ke liye aage badhe main page par',\n",
       "   'user': {'name': 'Lokesh jain',\n",
       "    'username': '@8bit__goldy',\n",
       "    'profile_id': '1751313813901840384',\n",
       "    'avatar': 'https://pbs.twimg.com/profile_images/1751313813901840384/GC4aSXoJ_bigger.jpg'},\n",
       "   'date': 'Feb 4, 2024 · 6:43 PM UTC',\n",
       "   'is-retweet': False,\n",
       "   'is-pinned': False,\n",
       "   'external-link': '',\n",
       "   'replying-to': ['@S8ulesports'],\n",
       "   'quoted-post': {'link': 'https://twitter.com/GodsReignIN/status/1754213082266833342#m',\n",
       "    'text': 'हम श्री एसएमएम से अनुरोध करते हैं कि वह इसे हिंदी में ट्वीट करें और हमारी मातृभाषा को प्रमोट करें, धन्यवाद।',\n",
       "    'user': {'name': 'Gods Reign',\n",
       "     'username': '@GodsReignIN',\n",
       "     'profile_id': '1563500083907559424',\n",
       "     'avatar': 'https://pbs.twimg.com/profile_images/1563500083907559424/cVMxDluF_mini.jpg'},\n",
       "    'date': 'Feb 4, 2024 · 6:39 PM UTC',\n",
       "    'pictures': [],\n",
       "    'videos': [],\n",
       "    'gifs': []},\n",
       "   'stats': {'comments': 25, 'retweets': 25, 'quotes': 4, 'likes': 846},\n",
       "   'pictures': [],\n",
       "   'videos': [],\n",
       "   'gifs': []}],\n",
       " 'threads': []}"
      ]
     },
     "execution_count": 5,
     "metadata": {},
     "output_type": "execute_result"
    }
   ],
   "source": [
    "tweets"
   ]
  },
  {
   "cell_type": "code",
   "execution_count": 6,
   "id": "7459c31f",
   "metadata": {},
   "outputs": [],
   "source": [
    "from confluent_kafka import Producer"
   ]
  },
  {
   "cell_type": "code",
   "execution_count": 7,
   "id": "5790fea7",
   "metadata": {},
   "outputs": [],
   "source": [
    "# Kafka bootstrap servers\n",
    "bootstrap_servers = 'localhost:9092'\n",
    "\n",
    "# Create Kafka producer configuration\n",
    "\n",
    "\n",
    "conf = {'bootstrap.servers': bootstrap_servers}\n",
    "\n",
    "# Create Kafka producer instance\n",
    "producer = Producer(conf)\n",
    "\n",
    "topic = 'sentiment'"
   ]
  },
  {
   "cell_type": "code",
   "execution_count": 8,
   "id": "294e799c",
   "metadata": {},
   "outputs": [
    {
     "data": {
      "text/plain": [
       "0"
      ]
     },
     "execution_count": 8,
     "metadata": {},
     "output_type": "execute_result"
    }
   ],
   "source": [
    " for tweet in tweets['tweets']:\n",
    "        producer.produce(topic, value=tweet['text'].encode('utf-8'))\n",
    "\n",
    "producer.flush()"
   ]
  },
  {
   "cell_type": "code",
   "execution_count": 9,
   "id": "51027452",
   "metadata": {},
   "outputs": [
    {
     "name": "stdout",
     "output_type": "stream",
     "text": [
      "                                              Tweets\n",
      "0                               Twice in a row  ❤️🇮🇳\n",
      "1                        \"Goodbye India\" They said 😭\n",
      "2                                                 🤫🧿\n",
      "3                           Sher toh Sher Howe hai 👑\n",
      "4  Sharing some strong lines which I read rn ❤️  ...\n",
      "5             BEST TO HAVE CRACKED THE ALGORITHM 🔥❤️\n",
      "6  I hear the jersey request but launching the je...\n",
      "7  NGL, very happy for mavi's comeback by heart ....\n",
      "8  झूठ नहीं बोलूंगा, दिल से मावी की वापसी से बहुत...\n",
      "9  Mera Aisa maana hai ki aapka kehna theekh hai ...\n"
     ]
    }
   ],
   "source": [
    "tweets_data = []\n",
    "for tweet in tweets['tweets']:\n",
    "        tweets_data.append(tweet['text'])\n",
    "\n",
    "\n",
    "\n",
    "df = pd.DataFrame(tweets_data, columns=['Tweets'])\n",
    "\n",
    "# Display the DataFrame\n",
    "print(df)"
   ]
  },
  {
   "cell_type": "code",
   "execution_count": 10,
   "id": "18f30057",
   "metadata": {},
   "outputs": [],
   "source": [
    "df.to_csv(\"News_Tweets.csv\", index=False)"
   ]
  },
  {
   "cell_type": "code",
   "execution_count": 11,
   "id": "cb0d9341",
   "metadata": {},
   "outputs": [
    {
     "ename": "AttributeError",
     "evalue": "module 'pandas' has no attribute 'read'",
     "output_type": "error",
     "traceback": [
      "\u001b[1;31m---------------------------------------------------------------------------\u001b[0m",
      "\u001b[1;31mAttributeError\u001b[0m                            Traceback (most recent call last)",
      "Cell \u001b[1;32mIn[11], line 1\u001b[0m\n\u001b[1;32m----> 1\u001b[0m ad \u001b[38;5;241m=\u001b[39m \u001b[43mpd\u001b[49m\u001b[38;5;241;43m.\u001b[39;49m\u001b[43mread\u001b[49m\n",
      "\u001b[1;31mAttributeError\u001b[0m: module 'pandas' has no attribute 'read'"
     ]
    }
   ],
   "source": [
    "ad = pd.read"
   ]
  },
  {
   "cell_type": "code",
   "execution_count": null,
   "id": "42f62cd0-18d0-4f2f-9a14-3348f350271e",
   "metadata": {},
   "outputs": [],
   "source": []
  }
 ],
 "metadata": {
  "kernelspec": {
   "display_name": "Python 3 (ipykernel)",
   "language": "python",
   "name": "python3"
  },
  "language_info": {
   "codemirror_mode": {
    "name": "ipython",
    "version": 3
   },
   "file_extension": ".py",
   "mimetype": "text/x-python",
   "name": "python",
   "nbconvert_exporter": "python",
   "pygments_lexer": "ipython3",
   "version": "3.12.2"
  }
 },
 "nbformat": 4,
 "nbformat_minor": 5
}
