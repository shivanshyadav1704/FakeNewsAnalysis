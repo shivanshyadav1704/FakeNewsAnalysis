{
 "cells": [
  {
   "cell_type": "code",
   "execution_count": 1,
   "id": "df7a0dd2",
   "metadata": {},
   "outputs": [
    {
     "name": "stdout",
     "output_type": "stream",
     "text": [
      "Received message: Welcom back Guys : 10\n",
      "Received message: Welcom back Guys : 11\n",
      "Received message: Welcom back Guys : 12\n",
      "Received message: Welcom back Guys : 13\n",
      "Received message: Welcom back Guys : 14\n",
      "Received message: Welcom back Guys : 15\n",
      "Received message: Welcom back Guys : 16\n",
      "Received message: Welcom back Guys : 17\n",
      "Received message: Welcom back Guys : 18\n",
      "Received message: Welcom back Guys : 19\n"
     ]
    },
    {
     "ename": "KeyboardInterrupt",
     "evalue": "",
     "output_type": "error",
     "traceback": [
      "\u001b[1;31m---------------------------------------------------------------------------\u001b[0m",
      "\u001b[1;31mKeyboardInterrupt\u001b[0m                         Traceback (most recent call last)",
      "Cell \u001b[1;32mIn[1], line 34\u001b[0m\n\u001b[0;32m     32\u001b[0m \u001b[38;5;66;03m# Consume messages\u001b[39;00m\n\u001b[0;32m     33\u001b[0m \u001b[38;5;28;01mwhile\u001b[39;00m \u001b[38;5;28;01mTrue\u001b[39;00m:\n\u001b[1;32m---> 34\u001b[0m     msg \u001b[38;5;241m=\u001b[39m consumer\u001b[38;5;241m.\u001b[39mpoll(\u001b[38;5;241m1.0\u001b[39m)  \u001b[38;5;66;03m# 1-second timeout\u001b[39;00m\n\u001b[0;32m     35\u001b[0m     \u001b[38;5;28;01mif\u001b[39;00m msg \u001b[38;5;129;01mis\u001b[39;00m \u001b[38;5;28;01mNone\u001b[39;00m:\n\u001b[0;32m     36\u001b[0m         \u001b[38;5;28;01mcontinue\u001b[39;00m\n",
      "\u001b[1;31mKeyboardInterrupt\u001b[0m: "
     ]
    }
   ],
   "source": [
    "from confluent_kafka import Producer\n",
    "\n",
    "# Kafka bootstrap servers\n",
    "bootstrap_servers = 'localhost:9092'\n",
    "\n",
    "# Create Kafka producer configuration\n",
    "conf = {'bootstrap.servers': bootstrap_servers}\n",
    "\n",
    "# Create Kafka producer instance\n",
    "producer = Producer(conf)\n",
    "\n",
    "topic = 'fakenews'\n",
    "\n",
    "for i in range(10,20):\n",
    "    message = 'Welcom back Guys : ' + str(i)\n",
    "    producer.produce(topic, value=message.encode('utf-8'))\n",
    "\n",
    "producer.flush()\n",
    "\n",
    "\n",
    "from confluent_kafka import Consumer, KafkaError\n",
    "\n",
    "# Create Kafka consumer configuration\n",
    "conf = {'bootstrap.servers': bootstrap_servers, 'group.id': 'your_consumer_group', 'auto.offset.reset': 'earliest'}\n",
    "\n",
    "# Create Kafka consumer instance\n",
    "consumer = Consumer(conf)\n",
    "\n",
    "# Subscribe to the Kafka topic\n",
    "consumer.subscribe([topic])\n",
    "\n",
    "# Consume messages\n",
    "while True:\n",
    "    msg = consumer.poll(1.0)  # 1-second timeout\n",
    "    if msg is None:\n",
    "        continue\n",
    "    if msg.error():\n",
    "        if msg.error().code() == KafkaError._PARTITION_EOF:\n",
    "            # End of partition event\n",
    "            continue\n",
    "        else:\n",
    "            print(msg.error())\n",
    "            break\n",
    "\n",
    "    # Process the received message\n",
    "    print('Received message: {}'.format(msg.value().decode('utf-8')))\n"
   ]
  },
  {
   "cell_type": "code",
   "execution_count": null,
   "id": "f09ed67c",
   "metadata": {},
   "outputs": [],
   "source": []
  }
 ],
 "metadata": {
  "kernelspec": {
   "display_name": "Python 3 (ipykernel)",
   "language": "python",
   "name": "python3"
  },
  "language_info": {
   "codemirror_mode": {
    "name": "ipython",
    "version": 3
   },
   "file_extension": ".py",
   "mimetype": "text/x-python",
   "name": "python",
   "nbconvert_exporter": "python",
   "pygments_lexer": "ipython3",
   "version": "3.11.5"
  }
 },
 "nbformat": 4,
 "nbformat_minor": 5
}
