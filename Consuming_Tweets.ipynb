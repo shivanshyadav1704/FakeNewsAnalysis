{
 "cells": [
  {
   "cell_type": "code",
   "execution_count": 1,
   "id": "682a9607",
   "metadata": {},
   "outputs": [],
   "source": [
    "from confluent_kafka import Consumer, KafkaError\n",
    "import pandas as pd"
   ]
  },
  {
   "cell_type": "code",
   "execution_count": 2,
   "id": "a0006c62",
   "metadata": {},
   "outputs": [],
   "source": [
    "# Kafka bootstrap servers\n",
    "bootstrap_servers = 'localhost:9092'\n",
    "\n",
    "# Create Kafka consumer configuration\n",
    "conf = {'bootstrap.servers': bootstrap_servers, 'group.id': 'my_consumer_group', 'auto.offset.reset': 'earliest'}\n",
    "\n",
    "# Kafka topic to consume messages from\n",
    "topic = 'project'\n",
    "\n",
    "# Create Kafka consumer instance\n",
    "consumer = Consumer(conf)\n",
    "\n",
    "# Subscribe to the Kafka topic\n",
    "consumer.subscribe([topic])\n",
    "\n",
    "# List to store consumed messages\n",
    "tweets = []\n",
    "\n",
    "n1=100\n",
    "n=0"
   ]
  },
  {
   "cell_type": "code",
   "execution_count": 3,
   "id": "d0fba811",
   "metadata": {},
   "outputs": [
    {
     "name": "stdout",
     "output_type": "stream",
     "text": [
      "Error: KafkaError{code=UNKNOWN_TOPIC_OR_PART,val=3,str=\"Subscribed topic not available: project: Broker: Unknown topic or partition\"}\n"
     ]
    }
   ],
   "source": [
    "\n",
    "# Consume messages\n",
    "while n<n1:\n",
    "    msg = consumer.poll(1.0)  # 1-second timeout\n",
    "    if msg is None:\n",
    "        continue\n",
    "    if msg.error():\n",
    "        if msg.error().code() == KafkaError._PARTITION_EOF:\n",
    "            # End of partition event\n",
    "            continue\n",
    "        else:\n",
    "            print(f\"Error: {msg.error()}\")\n",
    "            break\n",
    "\n",
    "    # Process the received message\n",
    "    tweets.append(msg.value().decode('utf-8'))\n",
    "\n",
    "    # Break after receiving one message\n",
    "    n+=1\n",
    "\n",
    "# Close the Kafka consumer\n",
    "consumer.close()\n",
    "\n"
   ]
  },
  {
   "cell_type": "code",
   "execution_count": 4,
   "id": "cfe2071d",
   "metadata": {},
   "outputs": [
    {
     "name": "stdout",
     "output_type": "stream",
     "text": [
      "Empty DataFrame\n",
      "Columns: [Tweets]\n",
      "Index: []\n"
     ]
    }
   ],
   "source": [
    "# Convert messages list to DataFrame\n",
    "df = pd.DataFrame(tweets, columns=['Tweets'])\n",
    "\n",
    "# Display the DataFrame\n",
    "print(df)"
   ]
  },
  {
   "cell_type": "code",
   "execution_count": null,
   "id": "646748b0-4f8d-450d-a364-fdc24f06ef40",
   "metadata": {},
   "outputs": [],
   "source": []
  }
 ],
 "metadata": {
  "kernelspec": {
   "display_name": "Python 3 (ipykernel)",
   "language": "python",
   "name": "python3"
  },
  "language_info": {
   "codemirror_mode": {
    "name": "ipython",
    "version": 3
   },
   "file_extension": ".py",
   "mimetype": "text/x-python",
   "name": "python",
   "nbconvert_exporter": "python",
   "pygments_lexer": "ipython3",
   "version": "3.12.2"
  }
 },
 "nbformat": 4,
 "nbformat_minor": 5
}
